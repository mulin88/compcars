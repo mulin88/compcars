{
 "cells": [
  {
   "cell_type": "code",
   "execution_count": 3,
   "metadata": {},
   "outputs": [
    {
     "name": "stdout",
     "output_type": "stream",
     "text": [
      "start processing 20570 images\n",
      "finish in 553.276937 s\n"
     ]
    }
   ],
   "source": [
    "import os\n",
    "import sys\n",
    "import cv2\n",
    "from multiprocessing import Pool\n",
    "import time\n",
    "\n",
    "\n",
    "DATA_ROOT = '../data/compcars/data/'\n",
    "\n",
    "\n",
    "if not os.path.exists(os.path.join(DATA_ROOT, 'cropped_image')):\n",
    "    os.mkdir(os.path.join(DATA_ROOT, 'cropped_image'))\n",
    "\n",
    "\n",
    "def fun(img_path):\n",
    "    assert(os.path.exists(os.path.join(DATA_ROOT, 'image', img_path)) and\n",
    "           os.path.exists(os.path.join(DATA_ROOT, 'label', img_path.replace('jpg', 'txt'))))\n",
    "\n",
    "    lb_fd = open(os.path.join(DATA_ROOT, 'label', img_path.replace('jpg', 'txt')))\n",
    "    label = lb_fd.readlines()\n",
    "    x1, y1, x2, y2 = map(int, label[-1].split(' '))\n",
    "    im = cv2.imread(os.path.join(DATA_ROOT, 'image', img_path))\n",
    "    cropped_im = im[y1:y2, x1:x2, :]\n",
    "    make, model, year, filename = img_path.replace('jpg', 'txt').split('/')\n",
    "    if not os.path.exists(os.path.join(DATA_ROOT, 'cropped_image', make, model, year)):\n",
    "        try:\n",
    "            os.makedirs(os.path.join(DATA_ROOT, 'cropped_image', make, model, year))\n",
    "        except:\n",
    "            pass\n",
    "    cv2.imwrite(os.path.join(os.path.join(DATA_ROOT, 'cropped_image', img_path)), cropped_im)\n",
    "\n",
    "\n",
    "\n",
    "process_num = 2\n",
    "\n",
    "img_list_file = [\n",
    "#     '../data/compcars/data/train_test_split/verification/verification_train.txt',\n",
    "    '../data/compcars/data/train_test_split/verification/verification_list.txt',\n",
    "#     '../data/compcars/data/train_test_split/classification/train.txt',    #../data/compcars/data/train_test_split/classification/\n",
    "#     '../data/compcars/data/train_test_split/classification/test.txt',\n",
    "]\n",
    "\n",
    "for f_name in img_list_file:\n",
    "    img_list = map(lambda s: s.strip(), open(f_name).readlines())\n",
    "    print('start processing %d images' % len(img_list))\n",
    "    t1 = time.time()\n",
    "    pool = Pool(process_num)\n",
    "    pool.map(fun, img_list)\n",
    "    t2 = time.time()\n",
    "    print ('finish in %f s' % (t2-t1))"
   ]
  },
  {
   "cell_type": "code",
   "execution_count": null,
   "metadata": {},
   "outputs": [],
   "source": []
  }
 ],
 "metadata": {
  "kernelspec": {
   "display_name": "Python 2",
   "language": "python",
   "name": "python2"
  },
  "language_info": {
   "codemirror_mode": {
    "name": "ipython",
    "version": 2
   },
   "file_extension": ".py",
   "mimetype": "text/x-python",
   "name": "python",
   "nbconvert_exporter": "python",
   "pygments_lexer": "ipython2",
   "version": "2.7.13"
  }
 },
 "nbformat": 4,
 "nbformat_minor": 2
}
