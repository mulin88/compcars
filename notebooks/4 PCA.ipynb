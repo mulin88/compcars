{
 "cells": [
  {
   "cell_type": "code",
   "execution_count": 1,
   "metadata": {},
   "outputs": [
    {
     "name": "stdout",
     "output_type": "stream",
     "text": [
      "tensor([0.1710, 0.2630, 0.1517,  ..., 0.0469, 0.0222, 0.0629], device='cuda:0') torch.Size([431]) 202 202\n",
      "tensor([0.1346, 0.7748, 0.3044,  ..., 1.9516, 2.3776, 0.4233], device='cuda:0') torch.Size([431]) 346 347\n",
      "X.shape: (16016, 2048)   labels.shape (16016, 1)\n",
      "(1, 2048)\n",
      "X shape (16016, 2048). X after PCA (16016, 20)\n"
     ]
    }
   ],
   "source": [
    "import numpy as np\n",
    "from sklearn import decomposition\n",
    "import torch\n",
    "\n",
    "import matplotlib.pyplot as plt\n",
    "from mpl_toolkits.mplot3d import Axes3D\n",
    "\n",
    "\n",
    "### Load feature dataset\n",
    "###\n",
    "feature_extract_tensor_file = '../checkpoints/feature_extract_full.pth'\n",
    "feature_extract_after_PCA_tensor_file = '../checkpoints/feature_extract_after_PCA_full.pth'\n",
    "feature_extract_without_PCA_tensor_file = '../checkpoints/feature_extract_without_PCA_full.pth'\n",
    "\n",
    "PCA = True\n",
    "\n",
    "# row definition = [infeature:2048, out:431, labels, preds]\n",
    "featureList = torch.load(feature_extract_tensor_file)\n",
    "\n",
    "print(featureList[10][0].data, featureList[10][1].shape, featureList[10][2], featureList[10][3])\n",
    "print(featureList[110][0].data, featureList[10][1].shape, featureList[110][2], featureList[110][3])\n",
    "\n",
    "inFC = list(map(lambda x: np.asarray(x[0].data.cpu()), featureList))\n",
    "X = np.matrix(inFC)\n",
    "\n",
    "labels = np.matrix(list(map(lambda x: x[2], featureList))).reshape(len(featureList), 1)\n",
    "print('X.shape: {}   labels.shape {}'.format(X.shape,  labels.shape))     ## (16016, 2048)\n",
    "\n",
    "print(X[0].shape)\n",
    "\n",
    "\n",
    "if PCA == True:\n",
    "    pca = decomposition.PCA(n_components=20) \n",
    "    pca.fit(X)\n",
    "    X_PCA = pca.transform(X) \n",
    "    print('X shape {}. X after PCA {}'.format(X.shape, X_PCA.shape))\n",
    "else:\n",
    "    X_PCA = X\n",
    "    pca = 'none'\n",
    "\n",
    "\n",
    "\n",
    "featureListAfterPCA = {\n",
    "    \"features\": X_PCA, \n",
    "    \"labels\": labels,\n",
    "    \"PCAfit\": pca\n",
    "}\n",
    "\n",
    "if PCA == True:  \n",
    "    torch.save(featureListAfterPCA, feature_extract_after_PCA_tensor_file)\n",
    "else:\n",
    "    torch.save(featureListAfterPCA, feature_extract_without_PCA_tensor_file)\n",
    "\n"
   ]
  },
  {
   "cell_type": "code",
   "execution_count": null,
   "metadata": {},
   "outputs": [],
   "source": []
  }
 ],
 "metadata": {
  "kernelspec": {
   "display_name": "Python 3",
   "language": "python",
   "name": "python3"
  },
  "language_info": {
   "codemirror_mode": {
    "name": "ipython",
    "version": 3
   },
   "file_extension": ".py",
   "mimetype": "text/x-python",
   "name": "python",
   "nbconvert_exporter": "python",
   "pygments_lexer": "ipython3",
   "version": "3.6.5"
  }
 },
 "nbformat": 4,
 "nbformat_minor": 2
}
